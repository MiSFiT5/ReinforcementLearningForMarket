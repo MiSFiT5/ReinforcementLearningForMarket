{
 "cells": [
  {
   "cell_type": "markdown",
   "metadata": {},
   "source": [
    "# 共享层和专用层分别处理"
   ]
  },
  {
   "cell_type": "code",
   "execution_count": 3,
   "metadata": {},
   "outputs": [
    {
     "name": "stderr",
     "output_type": "stream",
     "text": [
      "/tmp/ipykernel_4018041/2069805970.py:130: UserWarning: Creating a tensor from a list of numpy.ndarrays is extremely slow. Please consider converting the list to a single numpy.ndarray with numpy.array() before converting to a tensor. (Triggered internally at ../torch/csrc/utils/tensor_new.cpp:278.)\n",
      "  states = torch.FloatTensor(states)\n"
     ]
    }
   ],
   "source": [
    "import numpy as np\n",
    "import torch\n",
    "import torch.nn as nn\n",
    "import torch.optim as optim\n",
    "from collections import deque\n",
    "import random\n",
    "import gym\n",
    "from gym import spaces\n",
    "import pandas as pd\n",
    "name_count = pd.read_csv('name_count.csv')\n",
    "# 转化成字典\n",
    "name_count = name_count.set_index('Unnamed: 0')['count'].to_dict()\n",
    "\n",
    "\n",
    "\n",
    "# 定义 A 和 B\n",
    "A = np.random.uniform(-1, 1, size=(3, 73))  # 假设 A 的真实数据\n",
    "B = np.random.uniform(-1, 1, size=(3,))    # 假设 B 的真实数据\n",
    "\n",
    "# 解析配置变量\n",
    "variables = list(name_count.keys())\n",
    "participation_count = list(name_count.values())\n",
    "\n",
    "# 找出共享变量的索引\n",
    "shared_indices = [i for i, count in enumerate(participation_count) if count > 1]\n",
    "shared_size = len(shared_indices)\n",
    "\n",
    "# 自定义环境类，包含 KPI 计算逻辑\n",
    "class FactoryEnv(gym.Env):\n",
    "    def __init__(self, state_size, action_size, A, B):\n",
    "        super(FactoryEnv, self).__init__()\n",
    "        self.state_size = state_size\n",
    "        self.action_size = action_size\n",
    "        self.A = A\n",
    "        self.B = B\n",
    "        self.observation_space = spaces.Box(low=-np.inf, high=np.inf, shape=(state_size,), dtype=np.float32)\n",
    "        self.action_space = spaces.Box(low=-1, high=1, shape=(action_size,), dtype=np.float32)\n",
    "        self.state = np.random.uniform(-1, 1, size=(state_size,))\n",
    "        \n",
    "    def step(self, action):\n",
    "        self.state = np.clip(self.state + action, -1, 1)\n",
    "        kpi1 = np.dot(self.A[0], self.state) + self.B[0]\n",
    "        kpi2 = np.dot(self.A[1], self.state) + self.B[1]\n",
    "        kpi3 = np.dot(self.A[2], self.state) + self.B[2]\n",
    "        reward_vector = np.array([kpi1, kpi2, kpi3])  # 多目标奖励\n",
    "        done = False  # 根据需要设置终止条件\n",
    "        return self.state, reward_vector, done, {}\n",
    "    \n",
    "    def reset(self):\n",
    "        self.state = np.random.uniform(-1, 1, size=(self.state_size,))\n",
    "        return self.state\n",
    "\n",
    "# 定义 Actor 和 Critic 网络\n",
    "class SharedActor(nn.Module):\n",
    "    def __init__(self, state_size, action_size, shared_size, weight_size):\n",
    "        super(SharedActor, self).__init__()\n",
    "        self.shared_fc = nn.Linear(shared_size, 128)\n",
    "        self.individual_fc = nn.Linear(state_size - shared_size, 128)\n",
    "        self.fc1 = nn.Linear(256 + weight_size, 128)\n",
    "        self.fc2 = nn.Linear(128, 64)\n",
    "        self.fc3 = nn.Linear(64, action_size)\n",
    "    \n",
    "    def forward(self, state, weights):\n",
    "        shared_features = torch.relu(self.shared_fc(state[:, shared_indices]))\n",
    "        individual_features = torch.relu(self.individual_fc(state[:, [i for i in range(state.size(1)) if i not in shared_indices]]))\n",
    "        combined = torch.cat([shared_features, individual_features, weights], dim=1)\n",
    "        x = torch.relu(self.fc1(combined))\n",
    "        x = torch.relu(self.fc2(x))\n",
    "        return torch.tanh(self.fc3(x))\n",
    "\n",
    "class SharedCritic(nn.Module):\n",
    "    def __init__(self, state_size, action_size, shared_size, weight_size):\n",
    "        super(SharedCritic, self).__init__()\n",
    "        self.shared_fc = nn.Linear(shared_size, 128)\n",
    "        self.individual_fc = nn.Linear(state_size - shared_size, 128)\n",
    "        self.fc1 = nn.Linear(256 + action_size + weight_size, 128)\n",
    "        self.fc2 = nn.Linear(128, 64)\n",
    "        self.fc3 = nn.Linear(64, 1)\n",
    "    \n",
    "    def forward(self, state, action, weights):\n",
    "        shared_features = torch.relu(self.shared_fc(state[:, shared_indices]))\n",
    "        individual_features = torch.relu(self.individual_fc(state[:, [i for i in range(state.size(1)) if i not in shared_indices]]))\n",
    "        combined = torch.cat([shared_features, individual_features, action, weights], dim=1)\n",
    "        x = torch.relu(self.fc1(combined))\n",
    "        x = torch.relu(self.fc2(x))\n",
    "        return self.fc3(x)\n",
    "\n",
    "# 定义 MORL 智能体\n",
    "class MORLAgent:\n",
    "    def __init__(self, state_size, action_size, shared_size, weight_size):\n",
    "        self.state_size = state_size\n",
    "        self.action_size = action_size\n",
    "        self.weight_size = weight_size\n",
    "        self.actor = SharedActor(state_size, action_size, shared_size, weight_size)\n",
    "        self.critic = SharedCritic(state_size, action_size, shared_size, weight_size)\n",
    "        self.target_actor = SharedActor(state_size, action_size, shared_size, weight_size)\n",
    "        self.target_critic = SharedCritic(state_size, action_size, shared_size, weight_size)\n",
    "        self.actor_optimizer = optim.Adam(self.actor.parameters(), lr=0.001)\n",
    "        self.critic_optimizer = optim.Adam(self.critic.parameters(), lr=0.002)\n",
    "        self.memory = deque(maxlen=100000)\n",
    "        self.batch_size = 128\n",
    "        self.gamma = 0.99\n",
    "        self.tau = 0.005\n",
    "        \n",
    "        # 初始化目标网络参数\n",
    "        self._update_target(self.target_actor, self.actor, 1.0)\n",
    "        self._update_target(self.target_critic, self.critic, 1.0)\n",
    "\n",
    "    def _update_target(self, target, source, tau):\n",
    "        for target_param, param in zip(target.parameters(), source.parameters()):\n",
    "            target_param.data.copy_(tau * param.data + (1.0 - tau) * target_param.data)\n",
    "\n",
    "    def act(self, state, weights):\n",
    "        state = torch.FloatTensor(state).unsqueeze(0)\n",
    "        weights = torch.FloatTensor(weights).unsqueeze(0)\n",
    "        with torch.no_grad():\n",
    "            action = self.actor(state, weights).squeeze(0).numpy()\n",
    "        return np.clip(action + np.random.normal(0, 0.1, size=self.action_size), -1, 1)\n",
    "\n",
    "    def remember(self, state, action, reward_vector, next_state, done, weights):\n",
    "        weighted_reward = np.dot(weights, reward_vector)\n",
    "        self.memory.append((state, action, weighted_reward, next_state, done, weights))\n",
    "\n",
    "    def learn(self):\n",
    "        if len(self.memory) < self.batch_size:\n",
    "            return\n",
    "        batch = random.sample(self.memory, self.batch_size)\n",
    "        states, actions, rewards, next_states, dones, weights = zip(*batch)\n",
    "        \n",
    "        states = torch.FloatTensor(states)\n",
    "        actions = torch.FloatTensor(actions)\n",
    "        rewards = torch.FloatTensor(rewards).unsqueeze(1)\n",
    "        next_states = torch.FloatTensor(next_states)\n",
    "        dones = torch.FloatTensor(dones).unsqueeze(1)\n",
    "        weights = torch.FloatTensor(weights)\n",
    "        \n",
    "        # Critic 更新\n",
    "        next_actions = self.target_actor(next_states, weights)\n",
    "        next_q_values = self.target_critic(next_states, next_actions, weights)\n",
    "        q_targets = rewards + self.gamma * next_q_values * (1 - dones)\n",
    "        q_values = self.critic(states, actions, weights)\n",
    "        critic_loss = nn.MSELoss()(q_values, q_targets)\n",
    "        self.critic_optimizer.zero_grad()\n",
    "        critic_loss.backward()\n",
    "        self.critic_optimizer.step()\n",
    "        \n",
    "        # Actor 更新\n",
    "        actions_pred = self.actor(states, weights)\n",
    "        actor_loss = -self.critic(states, actions_pred, weights).mean()\n",
    "        self.actor_optimizer.zero_grad()\n",
    "        actor_loss.backward()\n",
    "        self.actor_optimizer.step()\n",
    "        \n",
    "        # 软更新目标网络\n",
    "        self._update_target(self.target_actor, self.actor, self.tau)\n",
    "        self._update_target(self.target_critic, self.critic, self.tau)\n",
    "\n",
    "# 初始化环境和智能体\n",
    "env = FactoryEnv(state_size=73, action_size=73, A=A, B=B)\n",
    "agent = MORLAgent(state_size=73, action_size=73, shared_size=len(shared_indices), weight_size=3)\n",
    "\n",
    "# 开始训练\n",
    "episodes = 1000\n",
    "for episode in range(episodes):\n",
    "    state = env.reset()\n",
    "    episode_reward = 0\n",
    "    done = False\n",
    "    weights = np.random.dirichlet(np.ones(3), size=1)[0]\n",
    "    while not done:\n",
    "        action = agent.act(state, weights)\n",
    "        next_state, reward_vector, done, _ = env.step(action)\n",
    "        agent.remember(state, action, reward_vector, next_state, done, weights)\n",
    "        agent.learn()\n",
    "        state = next_state\n",
    "        episode_reward += np.dot(weights, reward_vector)\n",
    "    print(f\"Episode {episode + 1}, Weighted Reward: {episode_reward}\")\n"
   ]
  },
  {
   "cell_type": "code",
   "execution_count": null,
   "metadata": {},
   "outputs": [],
   "source": []
  },
  {
   "cell_type": "code",
   "execution_count": 2,
   "metadata": {},
   "outputs": [
    {
     "name": "stdout",
     "output_type": "stream",
     "text": [
      "Episode 1, Weighted Reward: 20713.16697453889, Critic Loss: 123756036.3049519\n",
      "Episode 2, Weighted Reward: 23176.44806672412, Critic Loss: 175272168.42132443\n",
      "Episode 3, Weighted Reward: 21025.272721593115, Critic Loss: 141696383.42711386\n",
      "Episode 4, Weighted Reward: 22358.926604759887, Critic Loss: 159120457.6265248\n",
      "Episode 5, Weighted Reward: 22882.30375916794, Critic Loss: 164667638.57169452\n",
      "Episode 6, Weighted Reward: 20969.91077794051, Critic Loss: 136109630.28509045\n",
      "Episode 7, Weighted Reward: 21483.733287409745, Critic Loss: 141505877.5222704\n",
      "Episode 8, Weighted Reward: 19473.960473615964, Critic Loss: 113974388.4570168\n",
      "Episode 9, Weighted Reward: 25442.13781360719, Critic Loss: 197533119.3114353\n",
      "Episode 10, Weighted Reward: 21895.54195499012, Critic Loss: 140949478.6973571\n",
      "Episode 11, Weighted Reward: 18731.901951775966, Critic Loss: 100739562.32495901\n",
      "Episode 12, Weighted Reward: 23439.4941085999, Critic Loss: 161052870.85831037\n",
      "Episode 13, Weighted Reward: 20790.89373051717, Critic Loss: 123931357.80774675\n",
      "Episode 14, Weighted Reward: 18367.809858794397, Critic Loss: 94817952.1923562\n",
      "Episode 15, Weighted Reward: 18601.491187024923, Critic Loss: 97554973.36714944\n",
      "Episode 16, Weighted Reward: 18147.19866281213, Critic Loss: 93257195.39081267\n",
      "Episode 17, Weighted Reward: 19153.286090590456, Critic Loss: 104046155.81761956\n",
      "Episode 18, Weighted Reward: 18278.95267698016, Critic Loss: 93276155.97575924\n",
      "Episode 19, Weighted Reward: 19544.587948516546, Critic Loss: 107708838.07735161\n",
      "Episode 20, Weighted Reward: 22138.29176922069, Critic Loss: 138858834.91726416\n",
      "Episode 21, Weighted Reward: 20264.28605819572, Critic Loss: 115188661.95046717\n",
      "Episode 22, Weighted Reward: 20740.70376187648, Critic Loss: 121576536.5668813\n",
      "Episode 23, Weighted Reward: 18745.61789848426, Critic Loss: 98245392.43715188\n",
      "Episode 24, Weighted Reward: 18381.90077457452, Critic Loss: 94204365.87385017\n",
      "Episode 25, Weighted Reward: 20277.223234859794, Critic Loss: 114746149.38647601\n",
      "Episode 26, Weighted Reward: 22906.176226385163, Critic Loss: 144758188.14649475\n",
      "Episode 27, Weighted Reward: 23009.306782471976, Critic Loss: 148473994.5711146\n",
      "Episode 28, Weighted Reward: 20149.371360162128, Critic Loss: 111567614.22616093\n",
      "Episode 29, Weighted Reward: 20801.128329161438, Critic Loss: 119458923.56341779\n",
      "Episode 30, Weighted Reward: 19078.323357323152, Critic Loss: 99867672.02529773\n",
      "Episode 31, Weighted Reward: 21627.181876971506, Critic Loss: 130080539.29692\n",
      "Episode 32, Weighted Reward: 19176.039212943975, Critic Loss: 101009656.46311603\n",
      "Episode 33, Weighted Reward: 20631.74960047442, Critic Loss: 117924866.81384479\n",
      "Episode 34, Weighted Reward: 22291.572687075568, Critic Loss: 139100323.57961643\n",
      "Episode 35, Weighted Reward: 20065.80342435904, Critic Loss: 111358773.55934311\n",
      "Episode 36, Weighted Reward: 16239.170444138594, Critic Loss: 71310509.0452922\n",
      "Episode 37, Weighted Reward: 20475.56279986732, Critic Loss: 116531312.8870562\n",
      "Episode 38, Weighted Reward: 20308.886234779857, Critic Loss: 114812607.95202838\n",
      "Episode 39, Weighted Reward: 17700.210202726234, Critic Loss: 85926480.28520936\n",
      "Episode 40, Weighted Reward: 20975.21596093683, Critic Loss: 123138735.48886244\n",
      "Episode 41, Weighted Reward: 24470.426639428206, Critic Loss: 170646565.30287147\n",
      "Episode 42, Weighted Reward: 25561.326087267087, Critic Loss: 186349730.19641393\n",
      "Episode 43, Weighted Reward: 19723.99439584935, Critic Loss: 108591034.56869781\n",
      "Episode 44, Weighted Reward: 25348.268348519294, Critic Loss: 182632192.37949848\n",
      "Episode 45, Weighted Reward: 19193.64545061505, Critic Loss: 102361588.87962523\n",
      "Episode 46, Weighted Reward: 28974.339958760338, Critic Loss: 240715729.36535832\n",
      "Episode 47, Weighted Reward: 17903.321392604812, Critic Loss: 88672474.9402438\n",
      "Episode 48, Weighted Reward: 18591.29700405932, Critic Loss: 95997139.03286463\n",
      "Episode 49, Weighted Reward: 22378.70396203607, Critic Loss: 140937176.12107807\n",
      "Episode 50, Weighted Reward: 19987.187683786135, Critic Loss: 111559615.59247866\n",
      "Episode 51, Weighted Reward: 17439.81196804358, Critic Loss: 83718950.58218777\n",
      "Episode 52, Weighted Reward: 20012.40656612941, Critic Loss: 112087356.21983096\n",
      "Episode 53, Weighted Reward: 21241.185694578075, Critic Loss: 126838732.14518647\n",
      "Episode 54, Weighted Reward: 16213.705335053535, Critic Loss: 72558442.61280817\n",
      "Episode 55, Weighted Reward: 19500.315357022766, Critic Loss: 106058087.62579301\n",
      "Episode 56, Weighted Reward: 20052.17648484562, Critic Loss: 112693170.98225687\n",
      "Episode 57, Weighted Reward: 17158.626574122874, Critic Loss: 81716606.7707463\n",
      "Episode 58, Weighted Reward: 16574.241208924628, Critic Loss: 76036385.6264338\n",
      "Episode 59, Weighted Reward: 18145.61674759052, Critic Loss: 91608653.82240258\n",
      "Episode 60, Weighted Reward: 18424.843585908162, Critic Loss: 94840094.54549536\n",
      "Episode 61, Weighted Reward: 26729.29938855693, Critic Loss: 203553720.4821833\n",
      "Episode 62, Weighted Reward: 22366.614920623866, Critic Loss: 141494452.16816938\n",
      "Episode 63, Weighted Reward: 25043.405388113497, Critic Loss: 178238062.00151098\n",
      "Episode 64, Weighted Reward: 23682.51503406636, Critic Loss: 158884709.86009884\n",
      "Episode 65, Weighted Reward: 18596.235495556182, Critic Loss: 96921074.43656415\n",
      "Episode 66, Weighted Reward: 20790.6974932431, Critic Loss: 122002263.77088507\n",
      "Episode 67, Weighted Reward: 17365.266930470607, Critic Loss: 84321927.37417457\n",
      "Episode 68, Weighted Reward: 19005.164940352115, Critic Loss: 101671139.58588102\n",
      "Episode 69, Weighted Reward: 21882.97310123514, Critic Loss: 135458587.24369198\n",
      "Episode 70, Weighted Reward: 24081.216280239893, Critic Loss: 164518845.5999621\n",
      "Episode 71, Weighted Reward: 24602.072077037068, Critic Loss: 172036568.79136738\n",
      "Episode 72, Weighted Reward: 25587.95814369026, Critic Loss: 186246392.35564297\n",
      "Episode 73, Weighted Reward: 23087.15015933294, Critic Loss: 151218658.24090517\n",
      "Episode 74, Weighted Reward: 23060.632274324613, Critic Loss: 150744178.69186148\n",
      "Episode 75, Weighted Reward: 24031.43490017099, Critic Loss: 164041022.53128937\n",
      "Episode 76, Weighted Reward: 23444.204372889148, Critic Loss: 155889336.24925897\n",
      "Episode 77, Weighted Reward: 20094.22109512162, Critic Loss: 114021217.95585087\n",
      "Episode 78, Weighted Reward: 19279.39756231003, Critic Loss: 104929356.34228921\n",
      "Episode 79, Weighted Reward: 16838.49652849123, Critic Loss: 79791708.1056294\n",
      "Episode 80, Weighted Reward: 18853.44524508193, Critic Loss: 100067006.3044133\n",
      "Episode 81, Weighted Reward: 19277.646692122187, Critic Loss: 104960269.44497629\n",
      "Episode 82, Weighted Reward: 22637.65997406013, Critic Loss: 145093322.44958672\n",
      "Episode 83, Weighted Reward: 21430.229504353887, Critic Loss: 130006213.5586689\n",
      "Episode 84, Weighted Reward: 21616.592148764692, Critic Loss: 132233561.7239424\n",
      "Episode 85, Weighted Reward: 24077.814395569614, Critic Loss: 164359519.41220543\n",
      "Episode 86, Weighted Reward: 22985.771963239964, Critic Loss: 149556808.26635352\n",
      "Episode 87, Weighted Reward: 17508.64621561705, Critic Loss: 86433198.9830997\n",
      "Episode 88, Weighted Reward: 21666.117095314494, Critic Loss: 132839211.58134234\n",
      "Episode 89, Weighted Reward: 17435.511885320364, Critic Loss: 85469468.74878691\n",
      "Episode 90, Weighted Reward: 18289.07352678771, Critic Loss: 94317684.0618225\n",
      "Episode 91, Weighted Reward: 22516.26530105077, Critic Loss: 143300099.75957316\n",
      "Episode 92, Weighted Reward: 24006.981826280564, Critic Loss: 163122916.65972736\n",
      "Episode 93, Weighted Reward: 17618.65677630861, Critic Loss: 87490014.50790358\n",
      "Episode 94, Weighted Reward: 18693.057133879647, Critic Loss: 98394850.49270865\n",
      "Episode 95, Weighted Reward: 24187.190277467595, Critic Loss: 165505641.18909845\n",
      "Episode 96, Weighted Reward: 25554.070008943163, Critic Loss: 184986320.58842742\n",
      "Episode 97, Weighted Reward: 21597.260698932907, Critic Loss: 131926038.49722683\n",
      "Episode 98, Weighted Reward: 17516.48510198414, Critic Loss: 86602417.87128957\n",
      "Episode 99, Weighted Reward: 21087.885728078545, Critic Loss: 125733586.8807893\n",
      "Episode 100, Weighted Reward: 16239.2693590368, Critic Loss: 74318960.85927704\n"
     ]
    },
    {
     "data": {
      "image/png": "[encoded data removed]",
      "text/plain": [
       "<Figure size 1200x500 with 2 Axes>"
      ]
     },
     "metadata": {},
     "output_type": "display_data"
    }
   ],
   "source": [
    "import numpy as np\n",
    "import torch\n",
    "import torch.nn as nn\n",
    "import torch.optim as optim\n",
    "from collections import deque\n",
    "import random\n",
    "import gym\n",
    "from gym import spaces\n",
    "import matplotlib.pyplot as plt\n",
    "\n",
    "import pandas as pd\n",
    "name_count = pd.read_csv('name_count.csv')\n",
    "# 转化成字典\n",
    "name_count_dict = name_count.set_index('Unnamed: 0')['count'].to_dict()\n",
    "# 定义 A 和 B\n",
    "A = np.random.uniform(-1, 1, size=(3, 73))  # 假设 A 的真实数据\n",
    "B = np.random.uniform(-1, 1, size=(3,))    # 假设 B 的真实数据\n",
    "\n",
    "# 解析配置变量\n",
    "variables = list(name_count_dict.keys())\n",
    "participation_count = list(name_count_dict.values())\n",
    "\n",
    "# 找出共享变量的索引\n",
    "shared_indices = [i for i, count in enumerate(participation_count) if count > 1]\n",
    "shared_size = len(shared_indices)\n",
    "\n",
    "# 自定义环境类，包含 KPI 计算逻辑\n",
    "class FactoryEnv(gym.Env):\n",
    "    def __init__(self, state_size, action_size, A, B):\n",
    "        super(FactoryEnv, self).__init__()\n",
    "        self.state_size = state_size\n",
    "        self.action_size = action_size\n",
    "        self.A = A\n",
    "        self.B = B\n",
    "        self.observation_space = spaces.Box(low=-np.inf, high=np.inf, shape=(state_size,), dtype=np.float32)\n",
    "        self.action_space = spaces.Box(low=-1, high=1, shape=(action_size,), dtype=np.float32)\n",
    "        self.state = np.random.uniform(-1, 1, size=(state_size,))\n",
    "        \n",
    "    def step(self, action):\n",
    "        self.state = np.clip(self.state + action, -1, 1)\n",
    "        kpi1 = np.dot(self.A[0], self.state) + self.B[0]\n",
    "        kpi2 = np.dot(self.A[1], self.state) + self.B[1]\n",
    "        kpi3 = np.dot(self.A[2], self.state) + self.B[2]\n",
    "        reward_vector = np.array([kpi1, kpi2, kpi3])  # 多目标奖励\n",
    "        done = False  # 根据需要设置终止条件\n",
    "        return self.state, reward_vector, done, {}\n",
    "    \n",
    "    def reset(self):\n",
    "        self.state = np.random.uniform(-1, 1, size=(self.state_size,))\n",
    "        return self.state\n",
    "\n",
    "# 定义 Actor 和 Critic 网络\n",
    "class SharedActor(nn.Module):\n",
    "    def __init__(self, state_size, action_size, shared_size, weight_size):\n",
    "        super(SharedActor, self).__init__()\n",
    "        self.shared_fc = nn.Linear(shared_size, 128)\n",
    "        self.individual_fc = nn.Linear(state_size - shared_size, 128)\n",
    "        self.fc1 = nn.Linear(256 + weight_size, 128)\n",
    "        self.fc2 = nn.Linear(128, 64)\n",
    "        self.fc3 = nn.Linear(64, action_size)\n",
    "    \n",
    "    def forward(self, state, weights):\n",
    "        shared_features = torch.relu(self.shared_fc(state[:, shared_indices]))\n",
    "        individual_features = torch.relu(self.individual_fc(state[:, [i for i in range(state.size(1)) if i not in shared_indices]]))\n",
    "        combined = torch.cat([shared_features, individual_features, weights], dim=1)\n",
    "        x = torch.relu(self.fc1(combined))\n",
    "        x = torch.relu(self.fc2(x))\n",
    "        return torch.tanh(self.fc3(x))\n",
    "\n",
    "class SharedCritic(nn.Module):\n",
    "    def __init__(self, state_size, action_size, shared_size, weight_size):\n",
    "        super(SharedCritic, self).__init__()\n",
    "        self.shared_fc = nn.Linear(shared_size, 128)\n",
    "        self.individual_fc = nn.Linear(state_size - shared_size, 128)\n",
    "        self.fc1 = nn.Linear(256 + action_size + weight_size, 128)\n",
    "        self.fc2 = nn.Linear(128, 64)\n",
    "        self.fc3 = nn.Linear(64, 1)\n",
    "    \n",
    "    def forward(self, state, action, weights):\n",
    "        shared_features = torch.relu(self.shared_fc(state[:, shared_indices]))\n",
    "        individual_features = torch.relu(self.individual_fc(state[:, [i for i in range(state.size(1)) if i not in shared_indices]]))\n",
    "        combined = torch.cat([shared_features, individual_features, action, weights], dim=1)\n",
    "        x = torch.relu(self.fc1(combined))\n",
    "        x = torch.relu(self.fc2(x))\n",
    "        return self.fc3(x)\n",
    "\n",
    "# 定义 MORL 智能体\n",
    "class MORLAgent:\n",
    "    def __init__(self, state_size, action_size, shared_size, weight_size):\n",
    "        self.state_size = state_size\n",
    "        self.action_size = action_size\n",
    "        self.weight_size = weight_size\n",
    "        self.actor = SharedActor(state_size, action_size, shared_size, weight_size).to(device)\n",
    "        self.critic = SharedCritic(state_size, action_size, shared_size, weight_size).to(device)\n",
    "        self.target_actor = SharedActor(state_size, action_size, shared_size, weight_size).to(device)\n",
    "        self.target_critic = SharedCritic(state_size, action_size, shared_size, weight_size).to(device)\n",
    "        self.actor_optimizer = optim.Adam(self.actor.parameters(), lr=0.001)\n",
    "        self.critic_optimizer = optim.Adam(self.critic.parameters(), lr=0.002)\n",
    "        self.memory = deque(maxlen=100000)\n",
    "        self.batch_size = 128\n",
    "        self.gamma = 0.99\n",
    "        self.tau = 0.005\n",
    "        \n",
    "        # 初始化目标网络参数\n",
    "        self._update_target(self.target_actor, self.actor, 1.0)\n",
    "        self._update_target(self.target_critic, self.critic, 1.0)\n",
    "\n",
    "    def _update_target(self, target, source, tau):\n",
    "        for target_param, param in zip(target.parameters(), source.parameters()):\n",
    "            target_param.data.copy_(tau * param.data + (1.0 - tau) * target_param.data)\n",
    "\n",
    "    def act(self, state, weights):\n",
    "        state = torch.FloatTensor(state).unsqueeze(0).to(device)\n",
    "        weights = torch.FloatTensor(weights).unsqueeze(0).to(device)\n",
    "        with torch.no_grad():\n",
    "            action = self.actor(state, weights).squeeze(0).cpu().numpy()\n",
    "        return np.clip(action + np.random.normal(0, 0.1, size=self.action_size), -1, 1)\n",
    "\n",
    "    def remember(self, state, action, reward_vector, next_state, done, weights):\n",
    "        weighted_reward = np.dot(weights, reward_vector)\n",
    "        self.memory.append((state, action, weighted_reward, next_state, done, weights))\n",
    "\n",
    "    def learn(self):\n",
    "        if len(self.memory) < self.batch_size:\n",
    "            return\n",
    "        batch = random.sample(self.memory, self.batch_size)\n",
    "        states, actions, rewards, next_states, dones, weights = zip(*batch)\n",
    "        \n",
    "        # 将 numpy 数组列表合并为单个 numpy 数组来提高效率\n",
    "        states = torch.FloatTensor(np.array(states)).to(device)\n",
    "        actions = torch.FloatTensor(np.array(actions)).to(device)\n",
    "        rewards = torch.FloatTensor(np.array(rewards)).unsqueeze(1).to(device)\n",
    "        next_states = torch.FloatTensor(np.array(next_states)).to(device)\n",
    "        dones = torch.FloatTensor(np.array(dones)).unsqueeze(1).to(device)\n",
    "        weights = torch.FloatTensor(np.array(weights)).to(device)\n",
    "        \n",
    "        # Critic 更新\n",
    "        next_actions = self.target_actor(next_states, weights)\n",
    "        next_q_values = self.target_critic(next_states, next_actions, weights)\n",
    "        q_targets = rewards + self.gamma * next_q_values * (1 - dones)\n",
    "        q_values = self.critic(states, actions, weights)\n",
    "        critic_loss = nn.MSELoss()(q_values, q_targets)\n",
    "        self.critic_optimizer.zero_grad()\n",
    "        critic_loss.backward()\n",
    "        self.critic_optimizer.step()\n",
    "        \n",
    "        # Actor 更新\n",
    "        actions_pred = self.actor(states, weights)\n",
    "        actor_loss = -self.critic(states, actions_pred, weights).mean()\n",
    "        self.actor_optimizer.zero_grad()\n",
    "        actor_loss.backward()\n",
    "        self.actor_optimizer.step()\n",
    "        \n",
    "        # 软更新目标网络\n",
    "        self._update_target(self.target_actor, self.actor, self.tau)\n",
    "        self._update_target(self.target_critic, self.critic, self.tau)\n",
    "\n",
    "# 设备设置：使用 GPU（如果可用）\n",
    "device = torch.device(\"cuda\" if torch.cuda.is_available() else \"cpu\")\n",
    "\n",
    "# 初始化环境和智能体\n",
    "env = FactoryEnv(state_size=73, action_size=73, A=A, B=B)\n",
    "agent = MORLAgent(state_size=73, action_size=73, shared_size=len(shared_indices), weight_size=3)\n",
    "\n",
    "# 记录训练数据\n",
    "reward_history = []\n",
    "critic_loss_history = []\n",
    "\n",
    "# 开始训练\n",
    "episodes = 100\n",
    "max_steps = 2000  # 设置最大步数来控制 episode 长度\n",
    "for episode in range(episodes):\n",
    "    state = env.reset()\n",
    "    episode_reward = 0\n",
    "    done = False\n",
    "    weights = np.random.dirichlet(np.ones(3), size=1)[0]\n",
    "    step_count = 0\n",
    "    episode_critic_loss = 0\n",
    "    while not done and step_count < max_steps:\n",
    "        action = agent.act(state, weights)\n",
    "        next_state, reward_vector, done, _ = env.step(action)\n",
    "        agent.remember(state, action, reward_vector, next_state, done, weights)\n",
    "        agent.learn()\n",
    "        state = next_state\n",
    "        episode_reward += np.dot(weights, reward_vector)\n",
    "        step_count += 1\n",
    "        \n",
    "        # 记录 Critic 损失\n",
    "        q_values = agent.critic(torch.FloatTensor(state).unsqueeze(0).to(device),\n",
    "                                torch.FloatTensor(action).unsqueeze(0).to(device),\n",
    "                                torch.FloatTensor(weights).unsqueeze(0).to(device))\n",
    "        target_q_values = torch.FloatTensor([episode_reward]).unsqueeze(1).to(device)\n",
    "        critic_loss = nn.MSELoss()(q_values, target_q_values)\n",
    "        episode_critic_loss += critic_loss.item()\n",
    "        \n",
    "    reward_history.append(episode_reward)\n",
    "    critic_loss_history.append(episode_critic_loss / step_count)  # 平均损失\n",
    "    print(f\"Episode {episode + 1}, Weighted Reward: {episode_reward}, Critic Loss: {episode_critic_loss / step_count}\")\n",
    "\n",
    "# 绘制训练过程中的加权奖励和 Critic 损失图像\n",
    "plt.figure(figsize=(12, 5))\n",
    "plt.subplot(1, 2, 1)\n",
    "plt.plot(reward_history)\n",
    "plt.title('Weighted Reward Over Episodes')\n",
    "plt.xlabel('Episode')\n",
    "plt.ylabel('Weighted Reward')\n",
    "\n",
    "plt.subplot(1, 2, 2)\n",
    "plt.plot(critic_loss_history)\n",
    "plt.title('Critic Loss Over Episodes')\n",
    "plt.xlabel('Episode')\n",
    "plt.ylabel('Critic Loss')\n",
    "\n",
    "plt.tight_layout()\n",
    "plt.show()\n"
   ]
  },
  {
   "cell_type": "code",
   "execution_count": null,
   "metadata": {},
   "outputs": [],
   "source": []
  },
  {
   "cell_type": "code",
   "execution_count": null,
   "metadata": {},
   "outputs": [],
   "source": []
  },
  {
   "cell_type": "code",
   "execution_count": null,
   "metadata": {},
   "outputs": [],
   "source": []
  },
  {
   "cell_type": "markdown",
   "metadata": {},
   "source": [
    "# 多头注意力机制"
   ]
  },
  {
   "cell_type": "code",
   "execution_count": null,
   "metadata": {},
   "outputs": [],
   "source": [
    "import torch\n",
    "import torch.nn as nn\n",
    "import torch.optim as optim\n",
    "import numpy as np\n",
    "from collections import deque\n",
    "import random\n",
    "import gym\n",
    "from gym import spaces\n",
    "\n",
    "# 自定义多头注意力模块\n",
    "class MultiHeadAttention(nn.Module):\n",
    "    def __init__(self, embed_dim, num_heads):\n",
    "        super(MultiHeadAttention, self).__init__()\n",
    "        self.attention = nn.MultiheadAttention(embed_dim, num_heads)\n",
    "\n",
    "    def forward(self, x):\n",
    "        x = x.unsqueeze(0)  # 增加批次维度\n",
    "        attn_output, _ = self.attention(x, x, x)  # 自注意力\n",
    "        return attn_output.squeeze(0)  # 移除批次维度\n",
    "\n",
    "# Actor 网络，带多头注意力机制\n",
    "class AttentionActor(nn.Module):\n",
    "    def __init__(self, state_size, action_size, shared_size, weight_size, embed_dim=128, num_heads=4):\n",
    "        super(AttentionActor, self).__init__()\n",
    "        self.shared_attention = MultiHeadAttention(embed_dim=embed_dim, num_heads=num_heads)\n",
    "        self.individual_fc = nn.Linear(state_size - shared_size, embed_dim)\n",
    "        self.fc1 = nn.Linear(2 * embed_dim + weight_size, 128)\n",
    "        self.fc2 = nn.Linear(128, 64)\n",
    "        self.fc3 = nn.Linear(64, action_size)\n",
    "    \n",
    "    def forward(self, state, weights):\n",
    "        shared_features = state[:, shared_indices]\n",
    "        shared_features = self.shared_attention(shared_features)\n",
    "        individual_features = torch.relu(self.individual_fc(state[:, [i for i in range(state.size(1)) if i not in shared_indices]]))\n",
    "        combined = torch.cat([shared_features, individual_features, weights], dim=1)\n",
    "        x = torch.relu(self.fc1(combined))\n",
    "        x = torch.relu(self.fc2(x))\n",
    "        return torch.tanh(self.fc3(x))\n",
    "\n",
    "# Critic 网络，带多头注意力机制\n",
    "class AttentionCritic(nn.Module):\n",
    "    def __init__(self, state_size, action_size, shared_size, weight_size, embed_dim=128, num_heads=4):\n",
    "        super(AttentionCritic, self).__init__()\n",
    "        self.shared_attention = MultiHeadAttention(embed_dim=embed_dim, num_heads=num_heads)\n",
    "        self.individual_fc = nn.Linear(state_size - shared_size, embed_dim)\n",
    "        self.fc1 = nn.Linear(2 * embed_dim + action_size + weight_size, 128)\n",
    "        self.fc2 = nn.Linear(128, 64)\n",
    "        self.fc3 = nn.Linear(64, 1)\n",
    "    \n",
    "    def forward(self, state, action, weights):\n",
    "        shared_features = state[:, shared_indices]\n",
    "        shared_features = self.shared_attention(shared_features)\n",
    "        individual_features = torch.relu(self.individual_fc(state[:, [i for i in range(state.size(1)) if i not in shared_indices]]))\n",
    "        combined = torch.cat([shared_features, individual_features, action, weights], dim=1)\n",
    "        x = torch.relu(self.fc1(combined))\n",
    "        x = torch.relu(self.fc2(x))\n",
    "        return self.fc3(x)\n",
    "\n",
    "# 定义 MORL 智能体\n",
    "class MORLAgent:\n",
    "    def __init__(self, state_size, action_size, shared_size, weight_size):\n",
    "        self.state_size = state_size\n",
    "        self.action_size = action_size\n",
    "        self.weight_size = weight_size\n",
    "        self.actor = AttentionActor(state_size, action_size, shared_size, weight_size)\n",
    "        self.critic = AttentionCritic(state_size, action_size, shared_size, weight_size)\n",
    "        self.target_actor = AttentionActor(state_size, action_size, shared_size, weight_size)\n",
    "        self.target_critic = AttentionCritic(state_size, action_size, shared_size, weight_size)\n",
    "        self.actor_optimizer = optim.Adam(self.actor.parameters(), lr=0.001)\n",
    "        self.critic_optimizer = optim.Adam(self.critic.parameters(), lr=0.002)\n",
    "        self.memory = deque(maxlen=100000)\n",
    "        self.batch_size = 128\n",
    "        self.gamma = 0.99\n",
    "        self.tau = 0.005\n",
    "        \n",
    "        # 初始化目标网络参数\n",
    "        self._update_target(self.target_actor, self.actor, 1.0)\n",
    "        self._update_target(self.target_critic, self.critic, 1.0)\n",
    "\n",
    "    def _update_target(self, target, source, tau):\n",
    "        for target_param, param in zip(target.parameters(), source.parameters()):\n",
    "            target_param.data.copy_(tau * param.data + (1.0 - tau) * target_param.data)\n",
    "\n",
    "    def act(self, state, weights):\n",
    "        state = torch.FloatTensor(state).unsqueeze(0)\n",
    "        weights = torch.FloatTensor(weights).unsqueeze(0)\n",
    "        with torch.no_grad():\n",
    "            action = self.actor(state, weights).squeeze(0).numpy()\n",
    "        return np.clip(action + np.random.normal(0, 0.1, size=self.action_size), -1, 1)\n",
    "\n",
    "    def remember(self, state, action, reward_vector, next_state, done, weights):\n",
    "        weighted_reward = np.dot(weights, reward_vector)\n",
    "        self.memory.append((state, action, weighted_reward, next_state, done, weights))\n",
    "\n",
    "    def learn(self):\n",
    "        if len(self.memory) < self.batch_size:\n",
    "            return\n",
    "        batch = random.sample(self.memory, self.batch_size)\n",
    "        states, actions, rewards, next_states, dones, weights = zip(*batch)\n",
    "        \n",
    "        states = torch.FloatTensor(states)\n",
    "        actions = torch.FloatTensor(actions)\n",
    "        rewards = torch.FloatTensor(rewards).unsqueeze(1)\n",
    "        next_states = torch.FloatTensor(next_states)\n",
    "        dones = torch.FloatTensor(dones).unsqueeze(1)\n",
    "        weights = torch.FloatTensor(weights)\n",
    "        \n",
    "        # Critic 更新\n",
    "        next_actions = self.target_actor(next_states, weights)\n",
    "        next_q_values = self.target_critic(next_states, next_actions, weights)\n",
    "        q_targets = rewards + self.gamma * next_q_values * (1 - dones)\n",
    "        q_values = self.critic(states, actions, weights)\n",
    "        critic_loss = nn.MSELoss()(q_values, q_targets)\n",
    "        self.critic_optimizer.zero_grad()\n",
    "        critic_loss.backward()\n",
    "        self.critic_optimizer.step()\n",
    "        \n",
    "        # Actor 更新\n",
    "        actions_pred = self.actor(states, weights)\n",
    "        actor_loss = -self.critic(states, actions_pred, weights).mean()\n",
    "        self.actor_optimizer.zero_grad()\n",
    "        actor_loss.backward()\n",
    "        self.actor_optimizer.step()\n",
    "        \n",
    "        # 软更新目标网络\n",
    "        self._update_target(self.target_actor, self.actor, self.tau)\n",
    "        self._update_target(self.target_critic, self.critic, self.tau)\n",
    "\n",
    "# 初始化环境和智能体\n",
    "env = FactoryEnv(state_size=73, action_size=73, A=A, B=B)\n",
    "agent = MORLAgent(state_size=73, action_size=73, shared_size=len(shared_indices), weight_size=3)\n",
    "\n",
    "# 开始训练\n",
    "episodes = 1000\n",
    "for episode in range(episodes):\n",
    "    state = env.reset()\n",
    "    episode_reward = 0\n",
    "    done = False\n",
    "    weights = np.random.dirichlet(np.ones(3), size=1)[0]\n",
    "    while not done:\n",
    "        action = agent.act(state, weights)\n",
    "        next_state, reward_vector, done, _ = env.step(action)\n",
    "        agent.remember(state, action, reward_vector, next_state, done, weights)\n",
    "        agent.learn()\n",
    "        state = next_state\n",
    "        episode_reward += np.dot(weights, reward_vector)\n",
    "    print(f\"Episode {episode + 1}, Weighted Reward: {episode_reward}\")\n"
   ]
  },
  {
   "cell_type": "code",
   "execution_count": null,
   "metadata": {},
   "outputs": [],
   "source": []
  },
  {
   "cell_type": "code",
   "execution_count": null,
   "metadata": {},
   "outputs": [],
   "source": []
  },
  {
   "cell_type": "code",
   "execution_count": null,
   "metadata": {},
   "outputs": [],
   "source": []
  },
  {
   "cell_type": "code",
   "execution_count": null,
   "metadata": {},
   "outputs": [],
   "source": []
  },
  {
   "cell_type": "markdown",
   "metadata": {},
   "source": [
    "# 市场条件变动下的 多头注意力机制"
   ]
  },
  {
   "cell_type": "code",
   "execution_count": 3,
   "metadata": {},
   "outputs": [
    {
     "name": "stderr",
     "output_type": "stream",
     "text": [
      "Episode 1: 100%|██████████| 50000/50000 [01:22<00:00, 604.92it/s]\n"
     ]
    },
    {
     "name": "stdout",
     "output_type": "stream",
     "text": [
      "Episode 1, Weighted Reward: 11356042.964836696, Critic Loss: 6145.3932397092585\n"
     ]
    },
    {
     "name": "stderr",
     "output_type": "stream",
     "text": [
      "Episode 2: 100%|██████████| 50000/50000 [01:22<00:00, 604.44it/s]\n"
     ]
    },
    {
     "name": "stdout",
     "output_type": "stream",
     "text": [
      "Episode 2, Weighted Reward: 16150803.511237329, Critic Loss: 30492.922296547968\n"
     ]
    },
    {
     "name": "stderr",
     "output_type": "stream",
     "text": [
      "Episode 3: 100%|██████████| 50000/50000 [01:22<00:00, 606.28it/s]\n"
     ]
    },
    {
     "name": "stdout",
     "output_type": "stream",
     "text": [
      "Episode 3, Weighted Reward: 16336360.56596815, Critic Loss: 46875.39800197141\n"
     ]
    },
    {
     "name": "stderr",
     "output_type": "stream",
     "text": [
      "Episode 4: 100%|██████████| 50000/50000 [01:21<00:00, 611.72it/s]\n"
     ]
    },
    {
     "name": "stdout",
     "output_type": "stream",
     "text": [
      "Episode 4, Weighted Reward: 19775767.813806232, Critic Loss: 61737.67890581746\n"
     ]
    },
    {
     "name": "stderr",
     "output_type": "stream",
     "text": [
      "Episode 5: 100%|██████████| 50000/50000 [01:21<00:00, 610.99it/s]\n"
     ]
    },
    {
     "name": "stdout",
     "output_type": "stream",
     "text": [
      "Episode 5, Weighted Reward: 19019803.974329814, Critic Loss: 77288.06215341538\n"
     ]
    },
    {
     "name": "stderr",
     "output_type": "stream",
     "text": [
      "Episode 6: 100%|██████████| 50000/50000 [01:22<00:00, 603.39it/s]\n"
     ]
    },
    {
     "name": "stdout",
     "output_type": "stream",
     "text": [
      "Episode 6, Weighted Reward: 19267632.895152934, Critic Loss: 87179.51616480047\n"
     ]
    },
    {
     "name": "stderr",
     "output_type": "stream",
     "text": [
      "Episode 7: 100%|██████████| 50000/50000 [01:24<00:00, 590.11it/s]\n"
     ]
    },
    {
     "name": "stdout",
     "output_type": "stream",
     "text": [
      "Episode 7, Weighted Reward: 19245676.482617438, Critic Loss: 98669.388494799\n"
     ]
    },
    {
     "name": "stderr",
     "output_type": "stream",
     "text": [
      "Episode 8: 100%|██████████| 50000/50000 [01:26<00:00, 578.37it/s]\n"
     ]
    },
    {
     "name": "stdout",
     "output_type": "stream",
     "text": [
      "Episode 8, Weighted Reward: 19288867.98161195, Critic Loss: 106758.8628624856\n"
     ]
    },
    {
     "name": "stderr",
     "output_type": "stream",
     "text": [
      "Episode 9: 100%|██████████| 50000/50000 [01:24<00:00, 592.61it/s]\n"
     ]
    },
    {
     "name": "stdout",
     "output_type": "stream",
     "text": [
      "Episode 9, Weighted Reward: 19475961.527954925, Critic Loss: 112011.57350283171\n"
     ]
    },
    {
     "name": "stderr",
     "output_type": "stream",
     "text": [
      "Episode 10: 100%|██████████| 50000/50000 [01:22<00:00, 604.26it/s]\n"
     ]
    },
    {
     "name": "stdout",
     "output_type": "stream",
     "text": [
      "Episode 10, Weighted Reward: 19907614.496258974, Critic Loss: 116820.30842137456\n"
     ]
    },
    {
     "name": "stderr",
     "output_type": "stream",
     "text": [
      "Episode 11: 100%|██████████| 50000/50000 [01:23<00:00, 600.72it/s]\n"
     ]
    },
    {
     "name": "stdout",
     "output_type": "stream",
     "text": [
      "Episode 11, Weighted Reward: 19566325.59056521, Critic Loss: 131718.7108217318\n"
     ]
    },
    {
     "name": "stderr",
     "output_type": "stream",
     "text": [
      "Episode 12: 100%|██████████| 50000/50000 [01:23<00:00, 601.08it/s]\n"
     ]
    },
    {
     "name": "stdout",
     "output_type": "stream",
     "text": [
      "Episode 12, Weighted Reward: 19422544.742733054, Critic Loss: 142020.33938456923\n"
     ]
    },
    {
     "name": "stderr",
     "output_type": "stream",
     "text": [
      "Episode 13: 100%|██████████| 50000/50000 [01:23<00:00, 600.34it/s]\n"
     ]
    },
    {
     "name": "stdout",
     "output_type": "stream",
     "text": [
      "Episode 13, Weighted Reward: 19558318.520791277, Critic Loss: 150145.753543454\n"
     ]
    },
    {
     "name": "stderr",
     "output_type": "stream",
     "text": [
      "Episode 14: 100%|██████████| 50000/50000 [01:23<00:00, 596.42it/s]\n"
     ]
    },
    {
     "name": "stdout",
     "output_type": "stream",
     "text": [
      "Episode 14, Weighted Reward: 19348684.784294084, Critic Loss: 150785.56338893066\n"
     ]
    },
    {
     "name": "stderr",
     "output_type": "stream",
     "text": [
      "Episode 15: 100%|██████████| 50000/50000 [01:24<00:00, 595.22it/s]\n"
     ]
    },
    {
     "name": "stdout",
     "output_type": "stream",
     "text": [
      "Episode 15, Weighted Reward: 19698662.745886937, Critic Loss: 148461.247376503\n"
     ]
    },
    {
     "name": "stderr",
     "output_type": "stream",
     "text": [
      "Episode 16: 100%|██████████| 50000/50000 [01:23<00:00, 596.51it/s]\n"
     ]
    },
    {
     "name": "stdout",
     "output_type": "stream",
     "text": [
      "Episode 16, Weighted Reward: 19408018.78413491, Critic Loss: 144890.61121077515\n"
     ]
    },
    {
     "name": "stderr",
     "output_type": "stream",
     "text": [
      "Episode 17: 100%|██████████| 50000/50000 [01:23<00:00, 600.51it/s]\n"
     ]
    },
    {
     "name": "stdout",
     "output_type": "stream",
     "text": [
      "Episode 17, Weighted Reward: 19178158.717569824, Critic Loss: 135794.81566216217\n"
     ]
    },
    {
     "name": "stderr",
     "output_type": "stream",
     "text": [
      "Episode 18: 100%|██████████| 50000/50000 [01:24<00:00, 594.29it/s]\n"
     ]
    },
    {
     "name": "stdout",
     "output_type": "stream",
     "text": [
      "Episode 18, Weighted Reward: 19549104.37056416, Critic Loss: 128168.75914436142\n"
     ]
    },
    {
     "name": "stderr",
     "output_type": "stream",
     "text": [
      "Episode 19: 100%|██████████| 50000/50000 [01:24<00:00, 595.12it/s]\n"
     ]
    },
    {
     "name": "stdout",
     "output_type": "stream",
     "text": [
      "Episode 19, Weighted Reward: 19706737.442347243, Critic Loss: 119602.88049140258\n"
     ]
    },
    {
     "name": "stderr",
     "output_type": "stream",
     "text": [
      "Episode 20: 100%|██████████| 50000/50000 [01:23<00:00, 595.70it/s]\n"
     ]
    },
    {
     "name": "stdout",
     "output_type": "stream",
     "text": [
      "Episode 20, Weighted Reward: 19326519.009047538, Critic Loss: 110762.82186936097\n"
     ]
    },
    {
     "name": "stderr",
     "output_type": "stream",
     "text": [
      "Episode 21: 100%|██████████| 50000/50000 [01:23<00:00, 599.89it/s]\n"
     ]
    },
    {
     "name": "stdout",
     "output_type": "stream",
     "text": [
      "Episode 21, Weighted Reward: 19041203.48703572, Critic Loss: 103196.32106361451\n"
     ]
    },
    {
     "name": "stderr",
     "output_type": "stream",
     "text": [
      "Episode 22: 100%|██████████| 50000/50000 [01:22<00:00, 605.20it/s]\n"
     ]
    },
    {
     "name": "stdout",
     "output_type": "stream",
     "text": [
      "Episode 22, Weighted Reward: 19796965.723932378, Critic Loss: 94436.98704103928\n"
     ]
    },
    {
     "name": "stderr",
     "output_type": "stream",
     "text": [
      "Episode 23: 100%|██████████| 50000/50000 [01:22<00:00, 606.86it/s]\n"
     ]
    },
    {
     "name": "stdout",
     "output_type": "stream",
     "text": [
      "Episode 23, Weighted Reward: 19774472.34309507, Critic Loss: 89015.01738354111\n"
     ]
    },
    {
     "name": "stderr",
     "output_type": "stream",
     "text": [
      "Episode 24: 100%|██████████| 50000/50000 [01:22<00:00, 605.79it/s]\n"
     ]
    },
    {
     "name": "stdout",
     "output_type": "stream",
     "text": [
      "Episode 24, Weighted Reward: 19279025.77068906, Critic Loss: 85232.74180182816\n"
     ]
    },
    {
     "name": "stderr",
     "output_type": "stream",
     "text": [
      "Episode 25: 100%|██████████| 50000/50000 [01:22<00:00, 603.27it/s]\n"
     ]
    },
    {
     "name": "stdout",
     "output_type": "stream",
     "text": [
      "Episode 25, Weighted Reward: 18809992.98416127, Critic Loss: 78648.92161674668\n"
     ]
    },
    {
     "name": "stderr",
     "output_type": "stream",
     "text": [
      "Episode 26: 100%|██████████| 50000/50000 [01:23<00:00, 602.09it/s]\n"
     ]
    },
    {
     "name": "stdout",
     "output_type": "stream",
     "text": [
      "Episode 26, Weighted Reward: 19489962.75260225, Critic Loss: 76273.22150780335\n"
     ]
    },
    {
     "name": "stderr",
     "output_type": "stream",
     "text": [
      "Episode 27: 100%|██████████| 50000/50000 [01:22<00:00, 606.47it/s]\n"
     ]
    },
    {
     "name": "stdout",
     "output_type": "stream",
     "text": [
      "Episode 27, Weighted Reward: 19647927.60137905, Critic Loss: 75292.06658105335\n"
     ]
    },
    {
     "name": "stderr",
     "output_type": "stream",
     "text": [
      "Episode 28: 100%|██████████| 50000/50000 [01:22<00:00, 608.32it/s]\n"
     ]
    },
    {
     "name": "stdout",
     "output_type": "stream",
     "text": [
      "Episode 28, Weighted Reward: 20029214.057217862, Critic Loss: 77264.32933998562\n"
     ]
    },
    {
     "name": "stderr",
     "output_type": "stream",
     "text": [
      "Episode 29: 100%|██████████| 50000/50000 [01:22<00:00, 604.86it/s]\n"
     ]
    },
    {
     "name": "stdout",
     "output_type": "stream",
     "text": [
      "Episode 29, Weighted Reward: 19099380.12472211, Critic Loss: 77983.31102944232\n"
     ]
    },
    {
     "name": "stderr",
     "output_type": "stream",
     "text": [
      "Episode 30: 100%|██████████| 50000/50000 [01:25<00:00, 585.26it/s]\n"
     ]
    },
    {
     "name": "stdout",
     "output_type": "stream",
     "text": [
      "Episode 30, Weighted Reward: 19922878.82744254, Critic Loss: 79038.66389018849\n"
     ]
    },
    {
     "name": "stderr",
     "output_type": "stream",
     "text": [
      "Episode 31: 100%|██████████| 50000/50000 [01:24<00:00, 589.57it/s]\n"
     ]
    },
    {
     "name": "stdout",
     "output_type": "stream",
     "text": [
      "Episode 31, Weighted Reward: 19311072.823019344, Critic Loss: 79453.38040417897\n"
     ]
    },
    {
     "name": "stderr",
     "output_type": "stream",
     "text": [
      "Episode 32: 100%|██████████| 50000/50000 [01:25<00:00, 584.87it/s]\n"
     ]
    },
    {
     "name": "stdout",
     "output_type": "stream",
     "text": [
      "Episode 32, Weighted Reward: 19688718.36952812, Critic Loss: 82926.26699522251\n"
     ]
    },
    {
     "name": "stderr",
     "output_type": "stream",
     "text": [
      "Episode 33: 100%|██████████| 50000/50000 [01:25<00:00, 584.88it/s]\n"
     ]
    },
    {
     "name": "stdout",
     "output_type": "stream",
     "text": [
      "Episode 33, Weighted Reward: 19305069.97226688, Critic Loss: 77748.79441259151\n"
     ]
    },
    {
     "name": "stderr",
     "output_type": "stream",
     "text": [
      "Episode 34: 100%|██████████| 50000/50000 [01:25<00:00, 585.99it/s]\n"
     ]
    },
    {
     "name": "stdout",
     "output_type": "stream",
     "text": [
      "Episode 34, Weighted Reward: 19768737.625193402, Critic Loss: 76953.27338026516\n"
     ]
    },
    {
     "name": "stderr",
     "output_type": "stream",
     "text": [
      "Episode 35: 100%|██████████| 50000/50000 [01:25<00:00, 587.54it/s]\n"
     ]
    },
    {
     "name": "stdout",
     "output_type": "stream",
     "text": [
      "Episode 35, Weighted Reward: 19460333.480132602, Critic Loss: 80127.64288172466\n"
     ]
    },
    {
     "name": "stderr",
     "output_type": "stream",
     "text": [
      "Episode 36: 100%|██████████| 50000/50000 [01:22<00:00, 604.68it/s]\n"
     ]
    },
    {
     "name": "stdout",
     "output_type": "stream",
     "text": [
      "Episode 36, Weighted Reward: 19790218.24134912, Critic Loss: 80508.75891591201\n"
     ]
    },
    {
     "name": "stderr",
     "output_type": "stream",
     "text": [
      "Episode 37: 100%|██████████| 50000/50000 [01:22<00:00, 603.88it/s]\n"
     ]
    },
    {
     "name": "stdout",
     "output_type": "stream",
     "text": [
      "Episode 37, Weighted Reward: 19293643.94184086, Critic Loss: 79652.59148929718\n"
     ]
    },
    {
     "name": "stderr",
     "output_type": "stream",
     "text": [
      "Episode 38: 100%|██████████| 50000/50000 [01:24<00:00, 592.00it/s]\n"
     ]
    },
    {
     "name": "stdout",
     "output_type": "stream",
     "text": [
      "Episode 38, Weighted Reward: 19470344.487760473, Critic Loss: 75912.49305398414\n"
     ]
    },
    {
     "name": "stderr",
     "output_type": "stream",
     "text": [
      "Episode 39: 100%|██████████| 50000/50000 [01:23<00:00, 596.37it/s]\n"
     ]
    },
    {
     "name": "stdout",
     "output_type": "stream",
     "text": [
      "Episode 39, Weighted Reward: 19154272.51153625, Critic Loss: 73131.32435426071\n"
     ]
    },
    {
     "name": "stderr",
     "output_type": "stream",
     "text": [
      "Episode 40: 100%|██████████| 50000/50000 [01:23<00:00, 600.51it/s]\n"
     ]
    },
    {
     "name": "stdout",
     "output_type": "stream",
     "text": [
      "Episode 40, Weighted Reward: 20053607.818483446, Critic Loss: 69224.36922547856\n"
     ]
    },
    {
     "name": "stderr",
     "output_type": "stream",
     "text": [
      "Episode 41: 100%|██████████| 50000/50000 [01:22<00:00, 605.91it/s]\n"
     ]
    },
    {
     "name": "stdout",
     "output_type": "stream",
     "text": [
      "Episode 41, Weighted Reward: 18906277.108485624, Critic Loss: 66061.99550233241\n"
     ]
    },
    {
     "name": "stderr",
     "output_type": "stream",
     "text": [
      "Episode 42: 100%|██████████| 50000/50000 [01:22<00:00, 609.65it/s]\n"
     ]
    },
    {
     "name": "stdout",
     "output_type": "stream",
     "text": [
      "Episode 42, Weighted Reward: 19667847.836019006, Critic Loss: 61244.37689455341\n"
     ]
    },
    {
     "name": "stderr",
     "output_type": "stream",
     "text": [
      "Episode 43: 100%|██████████| 50000/50000 [01:22<00:00, 608.62it/s]\n"
     ]
    },
    {
     "name": "stdout",
     "output_type": "stream",
     "text": [
      "Episode 43, Weighted Reward: 19439187.562254958, Critic Loss: 61815.67245175785\n"
     ]
    },
    {
     "name": "stderr",
     "output_type": "stream",
     "text": [
      "Episode 44: 100%|██████████| 50000/50000 [01:21<00:00, 610.05it/s]\n"
     ]
    },
    {
     "name": "stdout",
     "output_type": "stream",
     "text": [
      "Episode 44, Weighted Reward: 19302031.976572614, Critic Loss: 61319.853597149886\n"
     ]
    },
    {
     "name": "stderr",
     "output_type": "stream",
     "text": [
      "Episode 45: 100%|██████████| 50000/50000 [01:22<00:00, 607.05it/s]\n"
     ]
    },
    {
     "name": "stdout",
     "output_type": "stream",
     "text": [
      "Episode 45, Weighted Reward: 19580527.13462632, Critic Loss: 57793.263242822955\n"
     ]
    },
    {
     "name": "stderr",
     "output_type": "stream",
     "text": [
      "Episode 46: 100%|██████████| 50000/50000 [01:22<00:00, 603.44it/s]\n"
     ]
    },
    {
     "name": "stdout",
     "output_type": "stream",
     "text": [
      "Episode 46, Weighted Reward: 19514721.975285817, Critic Loss: 54694.11361412365\n"
     ]
    },
    {
     "name": "stderr",
     "output_type": "stream",
     "text": [
      "Episode 47: 100%|██████████| 50000/50000 [01:22<00:00, 603.20it/s]\n"
     ]
    },
    {
     "name": "stdout",
     "output_type": "stream",
     "text": [
      "Episode 47, Weighted Reward: 19900176.44905233, Critic Loss: 54014.43425885963\n"
     ]
    },
    {
     "name": "stderr",
     "output_type": "stream",
     "text": [
      "Episode 48: 100%|██████████| 50000/50000 [01:23<00:00, 596.82it/s]\n"
     ]
    },
    {
     "name": "stdout",
     "output_type": "stream",
     "text": [
      "Episode 48, Weighted Reward: 19496855.138300274, Critic Loss: 52764.914070529616\n"
     ]
    },
    {
     "name": "stderr",
     "output_type": "stream",
     "text": [
      "Episode 49: 100%|██████████| 50000/50000 [01:21<00:00, 612.51it/s]\n"
     ]
    },
    {
     "name": "stdout",
     "output_type": "stream",
     "text": [
      "Episode 49, Weighted Reward: 19197921.388287265, Critic Loss: 55518.98859721236\n"
     ]
    },
    {
     "name": "stderr",
     "output_type": "stream",
     "text": [
      "Episode 50: 100%|██████████| 50000/50000 [01:21<00:00, 612.32it/s]\n"
     ]
    },
    {
     "name": "stdout",
     "output_type": "stream",
     "text": [
      "Episode 50, Weighted Reward: 19243850.96332278, Critic Loss: 57765.51967011506\n"
     ]
    },
    {
     "name": "stderr",
     "output_type": "stream",
     "text": [
      "Episode 51: 100%|██████████| 50000/50000 [01:22<00:00, 602.54it/s]\n"
     ]
    },
    {
     "name": "stdout",
     "output_type": "stream",
     "text": [
      "Episode 51, Weighted Reward: 19131787.2198762, Critic Loss: 57857.97355265302\n"
     ]
    },
    {
     "name": "stderr",
     "output_type": "stream",
     "text": [
      "Episode 52: 100%|██████████| 50000/50000 [01:22<00:00, 604.70it/s]\n"
     ]
    },
    {
     "name": "stdout",
     "output_type": "stream",
     "text": [
      "Episode 52, Weighted Reward: 20118835.840555806, Critic Loss: 56402.51309146981\n"
     ]
    },
    {
     "name": "stderr",
     "output_type": "stream",
     "text": [
      "Episode 53: 100%|██████████| 50000/50000 [01:22<00:00, 604.72it/s]\n"
     ]
    },
    {
     "name": "stdout",
     "output_type": "stream",
     "text": [
      "Episode 53, Weighted Reward: 19357530.667708535, Critic Loss: 55214.10011514641\n"
     ]
    },
    {
     "name": "stderr",
     "output_type": "stream",
     "text": [
      "Episode 54: 100%|██████████| 50000/50000 [01:26<00:00, 579.38it/s]\n"
     ]
    },
    {
     "name": "stdout",
     "output_type": "stream",
     "text": [
      "Episode 54, Weighted Reward: 19530625.066789888, Critic Loss: 53537.81284676772\n"
     ]
    },
    {
     "name": "stderr",
     "output_type": "stream",
     "text": [
      "Episode 55: 100%|██████████| 50000/50000 [01:25<00:00, 581.96it/s]\n"
     ]
    },
    {
     "name": "stdout",
     "output_type": "stream",
     "text": [
      "Episode 55, Weighted Reward: 19255555.32361551, Critic Loss: 54409.50636615394\n"
     ]
    },
    {
     "name": "stderr",
     "output_type": "stream",
     "text": [
      "Episode 56: 100%|██████████| 50000/50000 [01:26<00:00, 579.19it/s]\n"
     ]
    },
    {
     "name": "stdout",
     "output_type": "stream",
     "text": [
      "Episode 56, Weighted Reward: 19420105.419956826, Critic Loss: 54259.764123304194\n"
     ]
    },
    {
     "name": "stderr",
     "output_type": "stream",
     "text": [
      "Episode 57: 100%|██████████| 50000/50000 [01:27<00:00, 571.55it/s]\n"
     ]
    },
    {
     "name": "stdout",
     "output_type": "stream",
     "text": [
      "Episode 57, Weighted Reward: 19626013.806855418, Critic Loss: 54327.32338354364\n"
     ]
    },
    {
     "name": "stderr",
     "output_type": "stream",
     "text": [
      "Episode 58: 100%|██████████| 50000/50000 [01:22<00:00, 602.99it/s]\n"
     ]
    },
    {
     "name": "stdout",
     "output_type": "stream",
     "text": [
      "Episode 58, Weighted Reward: 18811719.5709277, Critic Loss: 52750.542619349464\n"
     ]
    },
    {
     "name": "stderr",
     "output_type": "stream",
     "text": [
      "Episode 59: 100%|██████████| 50000/50000 [01:23<00:00, 599.57it/s]\n"
     ]
    },
    {
     "name": "stdout",
     "output_type": "stream",
     "text": [
      "Episode 59, Weighted Reward: 18903128.34910592, Critic Loss: 56806.79651861679\n"
     ]
    },
    {
     "name": "stderr",
     "output_type": "stream",
     "text": [
      "Episode 60: 100%|██████████| 50000/50000 [01:24<00:00, 589.59it/s]\n"
     ]
    },
    {
     "name": "stdout",
     "output_type": "stream",
     "text": [
      "Episode 60, Weighted Reward: 19205049.547890507, Critic Loss: 55404.99477513235\n"
     ]
    },
    {
     "name": "stderr",
     "output_type": "stream",
     "text": [
      "Episode 61: 100%|██████████| 50000/50000 [01:23<00:00, 601.29it/s]\n"
     ]
    },
    {
     "name": "stdout",
     "output_type": "stream",
     "text": [
      "Episode 61, Weighted Reward: 19190479.539216448, Critic Loss: 56771.25536871042\n"
     ]
    },
    {
     "name": "stderr",
     "output_type": "stream",
     "text": [
      "Episode 62: 100%|██████████| 50000/50000 [01:23<00:00, 598.25it/s]\n"
     ]
    },
    {
     "name": "stdout",
     "output_type": "stream",
     "text": [
      "Episode 62, Weighted Reward: 19684633.20459409, Critic Loss: 57667.86121027731\n"
     ]
    },
    {
     "name": "stderr",
     "output_type": "stream",
     "text": [
      "Episode 63: 100%|██████████| 50000/50000 [01:24<00:00, 590.61it/s]\n"
     ]
    },
    {
     "name": "stdout",
     "output_type": "stream",
     "text": [
      "Episode 63, Weighted Reward: 19590814.37498598, Critic Loss: 58382.99906708004\n"
     ]
    },
    {
     "name": "stderr",
     "output_type": "stream",
     "text": [
      "Episode 64: 100%|██████████| 50000/50000 [01:24<00:00, 590.98it/s]\n"
     ]
    },
    {
     "name": "stdout",
     "output_type": "stream",
     "text": [
      "Episode 64, Weighted Reward: 19754377.857287474, Critic Loss: 58741.43018384962\n"
     ]
    },
    {
     "name": "stderr",
     "output_type": "stream",
     "text": [
      "Episode 65: 100%|██████████| 50000/50000 [01:26<00:00, 579.66it/s]\n"
     ]
    },
    {
     "name": "stdout",
     "output_type": "stream",
     "text": [
      "Episode 65, Weighted Reward: 20093947.929332554, Critic Loss: 57631.742622732105\n"
     ]
    },
    {
     "name": "stderr",
     "output_type": "stream",
     "text": [
      "Episode 66: 100%|██████████| 50000/50000 [01:26<00:00, 576.66it/s]\n"
     ]
    },
    {
     "name": "stdout",
     "output_type": "stream",
     "text": [
      "Episode 66, Weighted Reward: 19255271.039697967, Critic Loss: 57585.59848061455\n"
     ]
    },
    {
     "name": "stderr",
     "output_type": "stream",
     "text": [
      "Episode 67: 100%|██████████| 50000/50000 [01:26<00:00, 576.78it/s]\n"
     ]
    },
    {
     "name": "stdout",
     "output_type": "stream",
     "text": [
      "Episode 67, Weighted Reward: 19126074.54978832, Critic Loss: 56056.710789382705\n"
     ]
    },
    {
     "name": "stderr",
     "output_type": "stream",
     "text": [
      "Episode 68: 100%|██████████| 50000/50000 [01:24<00:00, 590.33it/s]\n"
     ]
    },
    {
     "name": "stdout",
     "output_type": "stream",
     "text": [
      "Episode 68, Weighted Reward: 19570687.424997065, Critic Loss: 56701.46202379331\n"
     ]
    },
    {
     "name": "stderr",
     "output_type": "stream",
     "text": [
      "Episode 69: 100%|██████████| 50000/50000 [01:23<00:00, 598.04it/s]\n"
     ]
    },
    {
     "name": "stdout",
     "output_type": "stream",
     "text": [
      "Episode 69, Weighted Reward: 19505202.685203306, Critic Loss: 50006.391324675504\n"
     ]
    },
    {
     "name": "stderr",
     "output_type": "stream",
     "text": [
      "Episode 70: 100%|██████████| 50000/50000 [01:22<00:00, 608.38it/s]\n"
     ]
    },
    {
     "name": "stdout",
     "output_type": "stream",
     "text": [
      "Episode 70, Weighted Reward: 19573216.84818563, Critic Loss: 51179.731789738944\n"
     ]
    },
    {
     "name": "stderr",
     "output_type": "stream",
     "text": [
      "Episode 71: 100%|██████████| 50000/50000 [01:22<00:00, 606.64it/s]\n"
     ]
    },
    {
     "name": "stdout",
     "output_type": "stream",
     "text": [
      "Episode 71, Weighted Reward: 20016183.918023422, Critic Loss: 51755.270891550615\n"
     ]
    },
    {
     "name": "stderr",
     "output_type": "stream",
     "text": [
      "Episode 72: 100%|██████████| 50000/50000 [01:22<00:00, 607.29it/s]\n"
     ]
    },
    {
     "name": "stdout",
     "output_type": "stream",
     "text": [
      "Episode 72, Weighted Reward: 19417479.76751922, Critic Loss: 52261.54751637167\n"
     ]
    },
    {
     "name": "stderr",
     "output_type": "stream",
     "text": [
      "Episode 73: 100%|██████████| 50000/50000 [01:22<00:00, 603.09it/s]\n"
     ]
    },
    {
     "name": "stdout",
     "output_type": "stream",
     "text": [
      "Episode 73, Weighted Reward: 19806979.536593713, Critic Loss: 52057.2400010248\n"
     ]
    },
    {
     "name": "stderr",
     "output_type": "stream",
     "text": [
      "Episode 74: 100%|██████████| 50000/50000 [01:22<00:00, 607.69it/s]\n"
     ]
    },
    {
     "name": "stdout",
     "output_type": "stream",
     "text": [
      "Episode 74, Weighted Reward: 19720998.323034495, Critic Loss: 52493.44093275608\n"
     ]
    },
    {
     "name": "stderr",
     "output_type": "stream",
     "text": [
      "Episode 75: 100%|██████████| 50000/50000 [01:22<00:00, 607.07it/s]\n"
     ]
    },
    {
     "name": "stdout",
     "output_type": "stream",
     "text": [
      "Episode 75, Weighted Reward: 19345491.571614098, Critic Loss: 53243.95062184902\n"
     ]
    },
    {
     "name": "stderr",
     "output_type": "stream",
     "text": [
      "Episode 76: 100%|██████████| 50000/50000 [01:22<00:00, 608.36it/s]\n"
     ]
    },
    {
     "name": "stdout",
     "output_type": "stream",
     "text": [
      "Episode 76, Weighted Reward: 20125447.180226725, Critic Loss: 55237.43928905354\n"
     ]
    },
    {
     "name": "stderr",
     "output_type": "stream",
     "text": [
      "Episode 77: 100%|██████████| 50000/50000 [01:22<00:00, 606.10it/s]\n"
     ]
    },
    {
     "name": "stdout",
     "output_type": "stream",
     "text": [
      "Episode 77, Weighted Reward: 19670277.52096913, Critic Loss: 59652.78264036175\n"
     ]
    },
    {
     "name": "stderr",
     "output_type": "stream",
     "text": [
      "Episode 78: 100%|██████████| 50000/50000 [01:22<00:00, 608.02it/s]\n"
     ]
    },
    {
     "name": "stdout",
     "output_type": "stream",
     "text": [
      "Episode 78, Weighted Reward: 20070959.41316206, Critic Loss: 61076.40084564741\n"
     ]
    },
    {
     "name": "stderr",
     "output_type": "stream",
     "text": [
      "Episode 79: 100%|██████████| 50000/50000 [01:22<00:00, 605.90it/s]\n"
     ]
    },
    {
     "name": "stdout",
     "output_type": "stream",
     "text": [
      "Episode 79, Weighted Reward: 19285278.059670024, Critic Loss: 63011.34541176931\n"
     ]
    },
    {
     "name": "stderr",
     "output_type": "stream",
     "text": [
      "Episode 80: 100%|██████████| 50000/50000 [01:23<00:00, 601.03it/s]\n"
     ]
    },
    {
     "name": "stdout",
     "output_type": "stream",
     "text": [
      "Episode 80, Weighted Reward: 19581916.191551838, Critic Loss: 62676.53274598978\n"
     ]
    },
    {
     "name": "stderr",
     "output_type": "stream",
     "text": [
      "Episode 81: 100%|██████████| 50000/50000 [01:23<00:00, 599.55it/s]\n"
     ]
    },
    {
     "name": "stdout",
     "output_type": "stream",
     "text": [
      "Episode 81, Weighted Reward: 19496755.368757654, Critic Loss: 61402.26284452764\n"
     ]
    },
    {
     "name": "stderr",
     "output_type": "stream",
     "text": [
      "Episode 82: 100%|██████████| 50000/50000 [01:24<00:00, 593.43it/s]\n"
     ]
    },
    {
     "name": "stdout",
     "output_type": "stream",
     "text": [
      "Episode 82, Weighted Reward: 19861977.563796256, Critic Loss: 62461.415393044605\n"
     ]
    },
    {
     "name": "stderr",
     "output_type": "stream",
     "text": [
      "Episode 83: 100%|██████████| 50000/50000 [01:22<00:00, 605.49it/s]\n"
     ]
    },
    {
     "name": "stdout",
     "output_type": "stream",
     "text": [
      "Episode 83, Weighted Reward: 19659990.808963455, Critic Loss: 61754.33759763575\n"
     ]
    },
    {
     "name": "stderr",
     "output_type": "stream",
     "text": [
      "Episode 84: 100%|██████████| 50000/50000 [01:24<00:00, 593.69it/s]\n"
     ]
    },
    {
     "name": "stdout",
     "output_type": "stream",
     "text": [
      "Episode 84, Weighted Reward: 19844015.584881272, Critic Loss: 62495.48092821815\n"
     ]
    },
    {
     "name": "stderr",
     "output_type": "stream",
     "text": [
      "Episode 85: 100%|██████████| 50000/50000 [01:25<00:00, 587.80it/s]\n"
     ]
    },
    {
     "name": "stdout",
     "output_type": "stream",
     "text": [
      "Episode 85, Weighted Reward: 19760990.39575914, Critic Loss: 62822.36131070129\n"
     ]
    },
    {
     "name": "stderr",
     "output_type": "stream",
     "text": [
      "Episode 86: 100%|██████████| 50000/50000 [01:23<00:00, 600.52it/s]\n"
     ]
    },
    {
     "name": "stdout",
     "output_type": "stream",
     "text": [
      "Episode 86, Weighted Reward: 19424763.86939362, Critic Loss: 60917.74008936159\n"
     ]
    },
    {
     "name": "stderr",
     "output_type": "stream",
     "text": [
      "Episode 87: 100%|██████████| 50000/50000 [01:22<00:00, 605.83it/s]\n"
     ]
    },
    {
     "name": "stdout",
     "output_type": "stream",
     "text": [
      "Episode 87, Weighted Reward: 20301925.698346455, Critic Loss: 61134.67924491045\n"
     ]
    },
    {
     "name": "stderr",
     "output_type": "stream",
     "text": [
      "Episode 88: 100%|██████████| 50000/50000 [01:24<00:00, 594.90it/s]\n"
     ]
    },
    {
     "name": "stdout",
     "output_type": "stream",
     "text": [
      "Episode 88, Weighted Reward: 19320300.326465886, Critic Loss: 60385.324057392885\n"
     ]
    },
    {
     "name": "stderr",
     "output_type": "stream",
     "text": [
      "Episode 89: 100%|██████████| 50000/50000 [01:23<00:00, 597.12it/s]\n"
     ]
    },
    {
     "name": "stdout",
     "output_type": "stream",
     "text": [
      "Episode 89, Weighted Reward: 19337899.374156997, Critic Loss: 61019.43852388546\n"
     ]
    },
    {
     "name": "stderr",
     "output_type": "stream",
     "text": [
      "Episode 90: 100%|██████████| 50000/50000 [01:23<00:00, 600.69it/s]\n"
     ]
    },
    {
     "name": "stdout",
     "output_type": "stream",
     "text": [
      "Episode 90, Weighted Reward: 19417126.03482928, Critic Loss: 59572.888982314355\n"
     ]
    },
    {
     "name": "stderr",
     "output_type": "stream",
     "text": [
      "Episode 91: 100%|██████████| 50000/50000 [01:22<00:00, 605.30it/s]\n"
     ]
    },
    {
     "name": "stdout",
     "output_type": "stream",
     "text": [
      "Episode 91, Weighted Reward: 18864945.57429265, Critic Loss: 60204.95102058\n"
     ]
    },
    {
     "name": "stderr",
     "output_type": "stream",
     "text": [
      "Episode 92: 100%|██████████| 50000/50000 [01:23<00:00, 598.34it/s]\n"
     ]
    },
    {
     "name": "stdout",
     "output_type": "stream",
     "text": [
      "Episode 92, Weighted Reward: 19721155.44344979, Critic Loss: 57454.238195727885\n"
     ]
    },
    {
     "name": "stderr",
     "output_type": "stream",
     "text": [
      "Episode 93: 100%|██████████| 50000/50000 [01:22<00:00, 604.82it/s]\n"
     ]
    },
    {
     "name": "stdout",
     "output_type": "stream",
     "text": [
      "Episode 93, Weighted Reward: 19396437.745953526, Critic Loss: 60390.06067121281\n"
     ]
    },
    {
     "name": "stderr",
     "output_type": "stream",
     "text": [
      "Episode 94: 100%|██████████| 50000/50000 [01:24<00:00, 590.82it/s]\n"
     ]
    },
    {
     "name": "stdout",
     "output_type": "stream",
     "text": [
      "Episode 94, Weighted Reward: 19089458.439174525, Critic Loss: 59964.43500659052\n"
     ]
    },
    {
     "name": "stderr",
     "output_type": "stream",
     "text": [
      "Episode 95: 100%|██████████| 50000/50000 [01:22<00:00, 605.09it/s]\n"
     ]
    },
    {
     "name": "stdout",
     "output_type": "stream",
     "text": [
      "Episode 95, Weighted Reward: 19043912.090019304, Critic Loss: 58062.32197767296\n"
     ]
    },
    {
     "name": "stderr",
     "output_type": "stream",
     "text": [
      "Episode 96: 100%|██████████| 50000/50000 [01:23<00:00, 600.51it/s]\n"
     ]
    },
    {
     "name": "stdout",
     "output_type": "stream",
     "text": [
      "Episode 96, Weighted Reward: 19606421.27013692, Critic Loss: 58505.14657907572\n"
     ]
    },
    {
     "name": "stderr",
     "output_type": "stream",
     "text": [
      "Episode 97: 100%|██████████| 50000/50000 [01:22<00:00, 606.46it/s]\n"
     ]
    },
    {
     "name": "stdout",
     "output_type": "stream",
     "text": [
      "Episode 97, Weighted Reward: 18973176.87809263, Critic Loss: 55109.56326245138\n"
     ]
    },
    {
     "name": "stderr",
     "output_type": "stream",
     "text": [
      "Episode 98: 100%|██████████| 50000/50000 [01:22<00:00, 603.84it/s]\n"
     ]
    },
    {
     "name": "stdout",
     "output_type": "stream",
     "text": [
      "Episode 98, Weighted Reward: 19956253.652651954, Critic Loss: 55034.523758534146\n"
     ]
    },
    {
     "name": "stderr",
     "output_type": "stream",
     "text": [
      "Episode 99: 100%|██████████| 50000/50000 [01:23<00:00, 599.56it/s]\n"
     ]
    },
    {
     "name": "stdout",
     "output_type": "stream",
     "text": [
      "Episode 99, Weighted Reward: 19391588.37437393, Critic Loss: 52905.53316424475\n"
     ]
    },
    {
     "name": "stderr",
     "output_type": "stream",
     "text": [
      "Episode 100: 100%|██████████| 50000/50000 [01:23<00:00, 600.68it/s]\n"
     ]
    },
    {
     "name": "stdout",
     "output_type": "stream",
     "text": [
      "Episode 100, Weighted Reward: 18871166.95959193, Critic Loss: 52785.384509617536\n"
     ]
    },
    {
     "data": {
      "image/png": "[encoded data removed]",
      "text/plain": [
       "<Figure size 1200x500 with 2 Axes>"
      ]
     },
     "metadata": {},
     "output_type": "display_data"
    }
   ],
   "source": [
    "import torch\n",
    "import torch.nn as nn\n",
    "import torch.optim as optim\n",
    "import numpy as np\n",
    "from collections import deque\n",
    "import random\n",
    "import gym\n",
    "from gym import spaces\n",
    "from tqdm import tqdm\n",
    "import matplotlib.pyplot as plt\n",
    "import pandas as pd\n",
    "\n",
    "# 读取 name_count.csv 转化为字典\n",
    "name_count = pd.read_csv('name_count.csv')\n",
    "name_count_dict = name_count.set_index('Unnamed: 0')['count'].to_dict()\n",
    "\n",
    "variables = list(name_count_dict.keys())\n",
    "participation_count = list(name_count_dict.values())\n",
    "\n",
    "# 找出共享变量的索引（即参与次数超过一次的变量）\n",
    "shared_indices = [i for i, count in enumerate(participation_count) if count > 1]\n",
    "shared_size = len(shared_indices)\n",
    "\n",
    "# 定义 A 和 B 的初始值\n",
    "A_mean = 30  # 假设均值\n",
    "A_std = 1   # 假设标准差\n",
    "B = np.random.uniform(-1, 1, size=(3,))  # B 的固定值\n",
    "\n",
    "# 自定义环境类，包含 KPI 计算逻辑\n",
    "class FactoryEnv(gym.Env):\n",
    "    def __init__(self, state_size, action_size, B, max_steps=50000):\n",
    "        super(FactoryEnv, self).__init__()\n",
    "        self.state_size = state_size\n",
    "        self.action_size = action_size\n",
    "        self.B = B\n",
    "        self.max_steps = max_steps\n",
    "        self.current_step = 0\n",
    "        self.A = np.random.normal(A_mean, A_std, size=(3, state_size))  # 初始的 A\n",
    "        self.observation_space = spaces.Box(low=-np.inf, high=np.inf, shape=(state_size,), dtype=np.float32)\n",
    "        self.action_space = spaces.Box(low=-1, high=1, shape=(action_size,), dtype=np.float32)\n",
    "        self.state = np.random.uniform(-1, 1, size=(state_size,))\n",
    "        \n",
    "    def step(self, action):\n",
    "        self.current_step += 1\n",
    "        self.state = np.clip(self.state + action, -1, 1)\n",
    "        kpi1 = np.dot(self.A[0], self.state) + self.B[0]\n",
    "        kpi2 = np.dot(self.A[1], self.state) + self.B[1]\n",
    "        kpi3 = np.dot(self.A[2], self.state) + self.B[2]\n",
    "        reward_vector = np.array([kpi1, kpi2, kpi3])  # 多目标奖励\n",
    "        done = self.current_step >= self.max_steps  # 根据步数终止\n",
    "        return self.state, reward_vector, done, {}\n",
    "    \n",
    "    def reset(self):\n",
    "        self.state = np.random.uniform(-1, 1, size=(self.state_size,))\n",
    "        self.current_step = 0\n",
    "        # 每次重置时重新生成 A 的值\n",
    "        self.A = np.random.normal(A_mean, A_std, size=(3, self.state_size))\n",
    "        return self.state\n",
    "\n",
    "# 自定义多头注意力模块\n",
    "class MultiHeadAttention(nn.Module):\n",
    "    def __init__(self, embed_dim, num_heads):\n",
    "        super(MultiHeadAttention, self).__init__()\n",
    "        self.attention = nn.MultiheadAttention(embed_dim, num_heads, batch_first=True)\n",
    "\n",
    "    def forward(self, x):\n",
    "        attn_output, _ = self.attention(x, x, x)  # 自注意力\n",
    "        return attn_output\n",
    "\n",
    "# Actor 网络，带多头注意力机制\n",
    "class AttentionActor(nn.Module):\n",
    "    def __init__(self, state_size, action_size, shared_size, weight_size, embed_dim=63, num_heads=3):\n",
    "        super(AttentionActor, self).__init__()\n",
    "        self.shared_attention = MultiHeadAttention(embed_dim=embed_dim, num_heads=num_heads)\n",
    "        self.shared_fc = nn.Linear(shared_size, embed_dim)  # 使用 shared_size\n",
    "        self.individual_fc = nn.Linear(state_size - shared_size, embed_dim)\n",
    "        self.fc1 = nn.Linear(2 * embed_dim + weight_size, 128)\n",
    "        self.fc2 = nn.Linear(128, 64)\n",
    "        self.fc3 = nn.Linear(64, action_size)\n",
    "    \n",
    "    def forward(self, state, weights):\n",
    "        shared_features = torch.relu(self.shared_fc(state[:, shared_indices]))\n",
    "        shared_features = shared_features.unsqueeze(1)  # 调整为 (batch_size, seq_length, embed_dim) 格式\n",
    "        shared_features = self.shared_attention(shared_features).squeeze(1)\n",
    "        individual_features = torch.relu(self.individual_fc(state[:, [i for i in range(state.size(1)) if i not in shared_indices]]))\n",
    "        combined = torch.cat([shared_features, individual_features, weights], dim=1)\n",
    "        x = torch.relu(self.fc1(combined))\n",
    "        x = torch.relu(self.fc2(x))\n",
    "        return torch.tanh(self.fc3(x))\n",
    "\n",
    "# 调整 Critic 网络结构（增加复杂度）\n",
    "class AttentionCritic(nn.Module):\n",
    "    def __init__(self, state_size, action_size, shared_size, weight_size, embed_dim=63, num_heads=3):\n",
    "        super(AttentionCritic, self).__init__()\n",
    "        self.shared_attention = MultiHeadAttention(embed_dim=embed_dim, num_heads=num_heads)\n",
    "        self.shared_fc = nn.Linear(shared_size, embed_dim)  # 使用 shared_size\n",
    "        self.individual_fc = nn.Linear(state_size - shared_size, embed_dim)\n",
    "        self.fc1 = nn.Linear(2 * embed_dim + action_size + weight_size, 256)  # 增加层的宽度\n",
    "        self.fc2 = nn.Linear(256, 128)  # 增加一层\n",
    "        self.fc3 = nn.Linear(128, 64)   # 增加一层\n",
    "        self.fc4 = nn.Linear(64, 1)     # 输出层\n",
    "    \n",
    "    def forward(self, state, action, weights):\n",
    "        shared_features = torch.relu(self.shared_fc(state[:, shared_indices]))\n",
    "        shared_features = shared_features.unsqueeze(1)  # 调整为 (batch_size, seq_length, embed_dim) 格式\n",
    "        shared_features = self.shared_attention(shared_features).squeeze(1)\n",
    "        individual_features = torch.relu(self.individual_fc(state[:, [i for i in range(state.size(1)) if i not in shared_indices]]))\n",
    "        combined = torch.cat([shared_features, individual_features, action, weights], dim=1)\n",
    "        x = torch.relu(self.fc1(combined))\n",
    "        x = torch.relu(self.fc2(x))\n",
    "        x = torch.relu(self.fc3(x))\n",
    "        return self.fc4(x)\n",
    "\n",
    "# 定义 MORL 智能体\n",
    "class MORLAgent:\n",
    "    def __init__(self, state_size, action_size, shared_size, weight_size, device):\n",
    "        self.state_size = state_size\n",
    "        self.action_size = action_size\n",
    "        self.weight_size = weight_size\n",
    "        self.device = device\n",
    "        self.actor = AttentionActor(state_size, action_size, shared_size, weight_size).to(device)\n",
    "        self.critic = AttentionCritic(state_size, action_size, shared_size, weight_size).to(device)\n",
    "        self.target_actor = AttentionActor(state_size, action_size, shared_size, weight_size).to(device)\n",
    "        self.target_critic = AttentionCritic(state_size, action_size, shared_size, weight_size).to(device)\n",
    "        self.actor_optimizer = optim.Adam(self.actor.parameters(), lr=0.001)\n",
    "        self.critic_optimizer = optim.Adam(self.critic.parameters(), lr=0.001)  # 调低学习率 for Critic Loss\n",
    "\n",
    "        self.memory = deque(maxlen=100000)\n",
    "        self.batch_size = 128\n",
    "        self.gamma = 0.99\n",
    "        self.tau = 0.01\n",
    "        self.learn_every = 10  # 每隔多少步进行一次学习\n",
    "        self.critic_loss_history = []  # 存储 Critic 损失历史\n",
    "        \n",
    "        # 初始化目标网络参数\n",
    "        self._update_target(self.target_actor, self.actor, 1.0)\n",
    "        self._update_target(self.target_critic, self.critic, 1.0)\n",
    "\n",
    "    def _update_target(self, target, source, tau):\n",
    "        for target_param, param in zip(target.parameters(), source.parameters()):\n",
    "            target_param.data.copy_(tau * param.data + (1.0 - tau) * target_param.data)\n",
    "\n",
    "    def act(self, state, weights):\n",
    "        state = torch.FloatTensor(state).unsqueeze(0).to(self.device)\n",
    "        weights = torch.FloatTensor(weights).unsqueeze(0).to(self.device)\n",
    "        with torch.no_grad():\n",
    "            action = self.actor(state, weights).squeeze(0).cpu().numpy()\n",
    "        return np.clip(action + np.random.normal(0, 0.1, size=self.action_size), -1, 1)\n",
    "\n",
    "    def remember(self, state, action, reward_vector, next_state, done, weights):\n",
    "        weighted_reward = np.dot(weights, reward_vector)\n",
    "        self.memory.append((state, action, weighted_reward, next_state, done, weights))\n",
    "\n",
    "    def learn(self, step_count):\n",
    "        if len(self.memory) < self.batch_size or step_count % self.learn_every != 0:\n",
    "            return\n",
    "        batch = random.sample(self.memory, self.batch_size)\n",
    "        states, actions, rewards, next_states, dones, weights = zip(*batch)\n",
    "        \n",
    "        states = torch.FloatTensor(np.array(states)).to(self.device)\n",
    "        actions = torch.FloatTensor(np.array(actions)).to(self.device)\n",
    "        rewards = torch.FloatTensor(np.array(rewards)).unsqueeze(1).to(self.device)\n",
    "        next_states = torch.FloatTensor(np.array(next_states)).to(self.device)\n",
    "        dones = torch.FloatTensor(np.array(dones)).unsqueeze(1).to(self.device)\n",
    "        weights = torch.FloatTensor(np.array(weights)).to(self.device)\n",
    "        \n",
    "        # Critic 更新\n",
    "        next_actions = self.target_actor(next_states, weights)\n",
    "        next_q_values = self.target_critic(next_states, next_actions, weights)\n",
    "        q_targets = rewards + self.gamma * next_q_values * (1 - dones)\n",
    "        q_values = self.critic(states, actions, weights)\n",
    "        critic_loss = nn.MSELoss()(q_values, q_targets)\n",
    "        self.critic_optimizer.zero_grad()\n",
    "        critic_loss.backward()\n",
    "        \n",
    "        torch.nn.utils.clip_grad_norm_(self.critic.parameters(), max_norm=1.0)  # 在反向传播后进行梯度裁剪 for critic Loss Optimization\n",
    "        self.critic_optimizer.step()\n",
    "\n",
    "        # 保存 Critic 损失\n",
    "        self.critic_loss_history.append(critic_loss.item())\n",
    "        \n",
    "        # Actor 更新\n",
    "        actions_pred = self.actor(states, weights)\n",
    "        actor_loss = -self.critic(states, actions_pred, weights).mean()\n",
    "        self.actor_optimizer.zero_grad()\n",
    "        actor_loss.backward()\n",
    "        self.actor_optimizer.step()\n",
    "        \n",
    "        # 软更新目标网络\n",
    "        self._update_target(self.target_actor, self.actor, self.tau)\n",
    "        self._update_target(self.target_critic, self.critic, self.tau)\n",
    "\n",
    "# 设备设置：使用 GPU（如果可用）\n",
    "device = torch.device(\"cuda\" if torch.cuda.is_available() else \"cpu\")\n",
    "\n",
    "# 初始化环境和智能体\n",
    "env = FactoryEnv(state_size=73, action_size=73, B=B, max_steps=50000)\n",
    "agent = MORLAgent(state_size=73, action_size=73, shared_size=len(shared_indices), weight_size=3, device=device)\n",
    "\n",
    "# 记录训练数据\n",
    "reward_history = []\n",
    "critic_loss_history = []\n",
    "\n",
    "# 开始训练\n",
    "episodes = 100\n",
    "for episode in range(episodes):\n",
    "    state = env.reset()\n",
    "    episode_reward = 0\n",
    "    done = False\n",
    "    weights = np.random.dirichlet(np.ones(3), size=1)[0]\n",
    "    step_count = 0\n",
    "\n",
    "    # 使用 tqdm 显示训练进度\n",
    "    with tqdm(total=env.max_steps, desc=f\"Episode {episode + 1}\") as pbar:\n",
    "        while not done:\n",
    "            action = agent.act(state, weights)\n",
    "            next_state, reward_vector, done, _ = env.step(action)\n",
    "            agent.remember(state, action, reward_vector, next_state, done, weights)\n",
    "            agent.learn(step_count)\n",
    "            state = next_state\n",
    "            episode_reward += np.dot(weights, reward_vector)\n",
    "            step_count += 1\n",
    "            pbar.update(1)  # 更新进度条\n",
    "\n",
    "    reward_history.append(episode_reward)\n",
    "    critic_loss_history.append(np.mean(agent.critic_loss_history[-step_count:]))  # 记录每个 episode 的平均 Critic 损失\n",
    "    print(f\"Episode {episode + 1}, Weighted Reward: {episode_reward}, Critic Loss: {critic_loss_history[-1]}\")\n",
    "\n",
    "# 绘制训练过程中的加权奖励和 Critic 损失图像\n",
    "plt.figure(figsize=(12, 5))\n",
    "plt.subplot(1, 2, 1)\n",
    "plt.plot(reward_history, label='Weighted Reward')\n",
    "plt.title('Weighted Reward Over Episodes')\n",
    "plt.xlabel('Episode')\n",
    "plt.ylabel('Weighted Reward')\n",
    "plt.legend()\n",
    "\n",
    "plt.subplot(1, 2, 2)\n",
    "plt.plot(critic_loss_history, label='Critic Loss')\n",
    "plt.title('Critic Loss Over Episodes')\n",
    "plt.xlabel('Episode')\n",
    "plt.ylabel('Critic Loss')\n",
    "plt.legend()\n",
    "\n",
    "plt.tight_layout()\n",
    "plt.show()\n"
   ]
  },
  {
   "cell_type": "code",
   "execution_count": null,
   "metadata": {},
   "outputs": [],
   "source": []
  }
 ],
 "metadata": {
  "kernelspec": {
   "display_name": "Python 3",
   "language": "python",
   "name": "python3"
  },
  "language_info": {
   "codemirror_mode": {
    "name": "ipython",
    "version": 3
   },
   "file_extension": ".py",
   "mimetype": "text/x-python",
   "name": "python",
   "nbconvert_exporter": "python",
   "pygments_lexer": "ipython3",
   "version": "3.9.18"
  }
 },
 "nbformat": 4,
 "nbformat_minor": 2
}
